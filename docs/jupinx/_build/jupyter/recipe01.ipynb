{
 "cells": [
  {
   "cell_type": "markdown",
   "metadata": {},
   "source": [
    "# Recipe 1: Directly Comparing Two Reforms\n",
    "\n",
    "This is an advanced recipe that should be followed only after mastering the basic recipe.\n",
    "This recipe shows how to compare two reforms (instead of comparing a reform to current-law policy)\n",
    "and also shows how to use the reform files available on the Tax-Calculator website\n",
    "(instead of reform files on your computer’s disk).\n",
    "\n",
    "Print reform2-vs-reform1 difference table"
   ]
  }
 ],
 "metadata": {
  "date": 1592696634.8238704,
  "filename": "recipe01.rst",
  "kernelspec": {
   "display_name": "Python",
   "language": "python3",
   "name": "python3"
  },
  "title": "Recipe 1: Directly Comparing Two Reforms"
 },
 "nbformat": 4,
 "nbformat_minor": 4
}