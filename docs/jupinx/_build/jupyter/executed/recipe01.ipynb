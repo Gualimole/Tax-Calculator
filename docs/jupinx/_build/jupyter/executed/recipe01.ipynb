{
 "cells": [
  {
   "cell_type": "markdown",
   "metadata": {},
   "source": [
    "# Recipe 1: Directly Comparing Two Reforms\n",
    "\n",
    "This is an advanced recipe that should be followed only after mastering the basic recipe.\n",
    "This recipe shows how to compare two reforms (instead of comparing a reform to current-law policy)\n",
    "and also shows how to use the reform files available on the Tax-Calculator website\n",
    "(instead of reform files on your computer’s disk).\n",
    "\n",
    "Print reform2-vs-reform1 difference table"
   ]
  }
 ],
 "metadata": {
  "date": 1592696634.8238704,
  "download_nb": false,
  "filename": "recipe01.rst",
  "filename_with_path": "recipe01",
  "kernelspec": {
   "display_name": "Python",
   "language": "python3",
   "name": "python3"
  },
  "language_info": {
   "codemirror_mode": {
    "name": "ipython",
    "version": 3
   },
   "file_extension": ".py",
   "mimetype": "text/x-python",
   "name": "python",
   "nbconvert_exporter": "python",
   "pygments_lexer": "ipython3",
   "version": "3.7.7"
  },
  "title": "Recipe 1: Directly Comparing Two Reforms"
 },
 "nbformat": 4,
 "nbformat_minor": 4
}
