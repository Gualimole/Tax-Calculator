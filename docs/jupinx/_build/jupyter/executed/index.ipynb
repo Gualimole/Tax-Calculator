{
 "cells": [
  {
   "cell_type": "markdown",
   "metadata": {},
   "source": [
    "# Welcome to taxcalc’s documentation!\n",
    "\n",
    "# Contents:\n",
    "- [Basic Recipe: Static Analysis of a Simple Reform](recipe00.ipynb)\n",
    "- [Recipe 1: Directly Comparing Two Reforms](recipe01.ipynb)\n",
    "- [Recipe 2: Estimating Behavioral Response to Reform](recipe02.ipynb)\n",
    "- [Recipe 3: Creating a Custom Table](recipe03.ipynb)\n",
    "- [Recipe 4: Estimating Differential Reform Response](recipe04.ipynb)\n",
    "- [Recipe 4: Estimating Differential Reform Response - pandas version](recipe04_pandas.ipynb)\n",
    "- [Recipe 5: Redefining Expanded Income](recipe05.ipynb)\n",
    "- [Recipe 6: Analyzing a Non-Parametric Reform](recipe06.ipynb)"
   ]
  }
 ],
 "metadata": {
  "date": 1592702193.1537316,
  "download_nb": false,
  "filename": "index.rst",
  "filename_with_path": "index",
  "kernelspec": {
   "display_name": "Python",
   "language": "python3",
   "name": "python3"
  },
  "language_info": {
   "codemirror_mode": {
    "name": "ipython",
    "version": 3
   },
   "file_extension": ".py",
   "mimetype": "text/x-python",
   "name": "python",
   "nbconvert_exporter": "python",
   "pygments_lexer": "ipython3",
   "version": "3.7.7"
  },
  "title": "Welcome to taxcalc’s documentation!"
 },
 "nbformat": 4,
 "nbformat_minor": 4
}
