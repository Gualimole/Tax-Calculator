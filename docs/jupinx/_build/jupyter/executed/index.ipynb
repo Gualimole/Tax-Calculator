{
 "cells": [
  {
   "cell_type": "markdown",
   "metadata": {},
   "source": [
    "# Welcome to taxcalc’s documentation!\n",
    "\n",
    "# Contents:\n",
    "- [Basic Recipe: Static Analysis of a Simple Reform](recipe00.ipynb)"
   ]
  }
 ],
 "metadata": {
  "date": 1592552862.4594169,
  "download_nb": false,
  "filename": "index.rst",
  "filename_with_path": "index",
  "kernelspec": {
   "display_name": "Python",
   "language": "python3",
   "name": "python3"
  },
  "language_info": {
   "codemirror_mode": {
    "name": "ipython",
    "version": 3
   },
   "file_extension": ".py",
   "mimetype": "text/x-python",
   "name": "python",
   "nbconvert_exporter": "python",
   "pygments_lexer": "ipython3",
   "version": "3.7.7"
  },
  "title": "Welcome to taxcalc’s documentation!"
 },
 "nbformat": 4,
 "nbformat_minor": 4
}
