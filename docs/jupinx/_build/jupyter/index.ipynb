{
 "cells": [
  {
   "cell_type": "markdown",
   "metadata": {},
   "source": [
    "# Welcome to taxcalc’s documentation!\n",
    "\n",
    "# Contents:\n",
    "- [Basic Recipe: Static Analysis of a Simple Reform](recipe00.ipynb)"
   ]
  }
 ],
 "metadata": {
  "date": 1592552862.4594169,
  "filename": "index.rst",
  "kernelspec": {
   "display_name": "Python",
   "language": "python3",
   "name": "python3"
  },
  "title": "Welcome to taxcalc’s documentation!"
 },
 "nbformat": 4,
 "nbformat_minor": 4
}