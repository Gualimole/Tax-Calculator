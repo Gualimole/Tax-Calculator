{
 "cells": [
  {
   "cell_type": "markdown",
   "metadata": {},
   "source": [
    "# Welcome to taxcalc’s documentation!\n",
    "\n",
    "# Contents:\n",
    "- [Basic Recipe: Static Analysis of a Simple Reform](recipe00.ipynb)\n",
    "- [Recipe 1: Directly Comparing Two Reforms](recipe01.ipynb)\n",
    "- [Recipe 2: Estimating Behavioral Response to Reform](recipe02.ipynb)\n",
    "- [Recipe 3: Creating a Custom Table](recipe03.ipynb)\n",
    "- [Recipe 4: Estimating Differential Reform Response](recipe04.ipynb)\n",
    "- [Recipe 4: Estimating Differential Reform Response - pandas version](recipe04_pandas.ipynb)\n",
    "- [Recipe 5: Redefining Expanded Income](recipe05.ipynb)\n",
    "- [Recipe 6: Analyzing a Non-Parametric Reform](recipe06.ipynb)"
   ]
  }
 ],
 "metadata": {
  "date": 1592696634.8166654,
  "filename": "index.rst",
  "kernelspec": {
   "display_name": "Python",
   "language": "python3",
   "name": "python3"
  },
  "title": "Welcome to taxcalc’s documentation!"
 },
 "nbformat": 4,
 "nbformat_minor": 4
}