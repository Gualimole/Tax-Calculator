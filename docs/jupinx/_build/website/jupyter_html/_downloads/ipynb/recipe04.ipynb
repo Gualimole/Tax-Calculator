{
 "cells": [
  {
   "cell_type": "markdown",
   "metadata": {},
   "source": [
    "# Recipe 4: Estimating Differential Reform Response\n",
    "\n",
    "This is an advanced recipe that should be followed only after mastering the basic recipe.\n",
    "This recipe shows how to estimate the reform response in charitable giving when the response elasticities vary by earnings group.\n",
    "It employs the groupby technique used in the Creating a Custom Table recipe, so you might want to read that recipe first."
   ]
  }
 ],
 "metadata": {
  "date": 1592696663.6438792,
  "filename": "recipe04.rst",
  "kernelspec": {
   "display_name": "Python",
   "language": "python3",
   "name": "python3"
  },
  "next_doc": {
   "link": "recipe04_pandas",
   "title": "Recipe 4: Estimating Differential Reform Response - pandas version"
  },
  "prev_doc": {
   "link": "recipe03",
   "title": "Recipe 3: Creating a Custom Table"
  },
  "title": "Recipe 4: Estimating Differential Reform Response"
 },
 "nbformat": 4,
 "nbformat_minor": 4
}