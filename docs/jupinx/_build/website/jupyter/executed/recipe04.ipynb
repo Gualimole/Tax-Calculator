{
 "cells": [
  {
   "cell_type": "markdown",
   "metadata": {},
   "source": [
    "# Recipe 4: Estimating Differential Reform Response\n",
    "\n",
    "This is an advanced recipe that should be followed only after mastering the basic recipe.\n",
    "This recipe shows how to estimate the reform response in charitable giving when the response elasticities vary by earnings group.\n",
    "It employs the groupby technique used in the Creating a Custom Table recipe, so you might want to read that recipe first."
   ]
  }
 ],
 "metadata": {
  "date": 1592696663.6816294,
  "download_nb": true,
  "download_nb_path": null,
  "filename": "recipe04.rst",
  "filename_with_path": "recipe04",
  "kernelspec": {
   "display_name": "Python",
   "language": "python3",
   "name": "python3"
  },
  "language_info": {
   "codemirror_mode": {
    "name": "ipython",
    "version": 3
   },
   "file_extension": ".py",
   "mimetype": "text/x-python",
   "name": "python",
   "nbconvert_exporter": "python",
   "pygments_lexer": "ipython3",
   "version": "3.7.7"
  },
  "next_doc": {
   "link": "recipe04_pandas",
   "title": "Recipe 4: Estimating Differential Reform Response - pandas version"
  },
  "prev_doc": {
   "link": "recipe03",
   "title": "Recipe 3: Creating a Custom Table"
  },
  "title": "Recipe 4: Estimating Differential Reform Response"
 },
 "nbformat": 4,
 "nbformat_minor": 4
}
