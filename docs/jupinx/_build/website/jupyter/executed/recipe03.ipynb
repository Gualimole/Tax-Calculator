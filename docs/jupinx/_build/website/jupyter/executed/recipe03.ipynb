{
 "cells": [
  {
   "cell_type": "markdown",
   "metadata": {},
   "source": [
    "# Recipe 3: Creating a Custom Table\n",
    "\n",
    "This is an advanced recipe that should be followed only after mastering the basic recipe.\n",
    "This recipe shows how to prepare a custom table."
   ]
  },
  {
   "cell_type": "code",
   "execution_count": 1,
   "metadata": {
    "hide-output": false
   },
   "outputs": [
    {
     "ename": "NameError",
     "evalue": "name 'add_income_table_row_variable' is not defined",
     "output_type": "error",
     "traceback": [
      "\u001b[0;31m---------------------------------------------------------------------------\u001b[0m",
      "\u001b[0;31mNameError\u001b[0m                                 Traceback (most recent call last)",
      "\u001b[0;32m<ipython-input-1-88c06f43a0a7>\u001b[0m in \u001b[0;36m<module>\u001b[0;34m\u001b[0m\n\u001b[1;32m     17\u001b[0m \u001b[0;31m# and the average positive EITC amount by IRS-SOI AGI categories\u001b[0m\u001b[0;34m\u001b[0m\u001b[0;34m\u001b[0m\u001b[0;34m\u001b[0m\u001b[0m\n\u001b[1;32m     18\u001b[0m \u001b[0mvardf\u001b[0m \u001b[0;34m=\u001b[0m \u001b[0mcalc\u001b[0m\u001b[0;34m.\u001b[0m\u001b[0mdataframe\u001b[0m\u001b[0;34m(\u001b[0m\u001b[0;34m[\u001b[0m\u001b[0;34m's006'\u001b[0m\u001b[0;34m,\u001b[0m \u001b[0;34m'c00100'\u001b[0m\u001b[0;34m,\u001b[0m \u001b[0;34m'eitc'\u001b[0m\u001b[0;34m]\u001b[0m\u001b[0;34m)\u001b[0m\u001b[0;34m\u001b[0m\u001b[0;34m\u001b[0m\u001b[0m\n\u001b[0;32m---> 19\u001b[0;31m \u001b[0mvardf\u001b[0m \u001b[0;34m=\u001b[0m \u001b[0madd_income_table_row_variable\u001b[0m\u001b[0;34m(\u001b[0m\u001b[0mvardf\u001b[0m\u001b[0;34m,\u001b[0m \u001b[0;34m'c00100'\u001b[0m\u001b[0;34m,\u001b[0m \u001b[0mtc\u001b[0m\u001b[0;34m.\u001b[0m\u001b[0mSOI_AGI_BINS\u001b[0m\u001b[0;34m)\u001b[0m\u001b[0;34m\u001b[0m\u001b[0;34m\u001b[0m\u001b[0m\n\u001b[0m\u001b[1;32m     20\u001b[0m \u001b[0mgbydf\u001b[0m \u001b[0;34m=\u001b[0m \u001b[0mvardf\u001b[0m\u001b[0;34m.\u001b[0m\u001b[0mgroupby\u001b[0m\u001b[0;34m(\u001b[0m\u001b[0;34m'table_row'\u001b[0m\u001b[0;34m,\u001b[0m \u001b[0mas_index\u001b[0m\u001b[0;34m=\u001b[0m\u001b[0;32mFalse\u001b[0m\u001b[0;34m)\u001b[0m\u001b[0;34m\u001b[0m\u001b[0;34m\u001b[0m\u001b[0m\n",
      "\u001b[0;31mNameError\u001b[0m: name 'add_income_table_row_variable' is not defined"
     ]
    }
   ],
   "source": [
    "import taxcalc as tc\n",
    "\n",
    "# use publicly-available CPS input file\n",
    "recs = tc.Records.cps_constructor()\n",
    "\n",
    "# specify Calculator object for static analysis of current-law policy\n",
    "pol = tc.Policy()\n",
    "calc = tc.Calculator(policy=pol, records=recs)\n",
    "\n",
    "CYR = 2020\n",
    "\n",
    "# calculate aggregate current-law income tax liabilities for cyr\n",
    "calc.advance_to_year(CYR)\n",
    "calc.calc_all()\n",
    "\n",
    "# tabulate custom table showing number of filing units receiving EITC\n",
    "# and the average positive EITC amount by IRS-SOI AGI categories\n",
    "vardf = calc.dataframe(['s006', 'c00100', 'eitc'])\n",
    "vardf = add_income_table_row_variable(vardf, 'c00100', tc.SOI_AGI_BINS)\n",
    "gbydf = vardf.groupby('table_row', as_index=False)"
   ]
  },
  {
   "cell_type": "markdown",
   "metadata": {},
   "source": [
    "Filing Units Receiving EITC and Average Positive EITC by AGI Category"
   ]
  },
  {
   "cell_type": "code",
   "execution_count": 2,
   "metadata": {
    "hide-output": false
   },
   "outputs": [
    {
     "name": "stdout",
     "output_type": "stream",
     "text": [
      "AGI Category           \t Num(#M)\t Avg($K)\n"
     ]
    },
    {
     "ename": "NameError",
     "evalue": "name 'gbydf' is not defined",
     "output_type": "error",
     "traceback": [
      "\u001b[0;31m---------------------------------------------------------------------------\u001b[0m",
      "\u001b[0;31mNameError\u001b[0m                                 Traceback (most recent call last)",
      "\u001b[0;32m<ipython-input-2-8ec1b0186c9e>\u001b[0m in \u001b[0;36m<module>\u001b[0;34m\u001b[0m\n\u001b[1;32m      6\u001b[0m \u001b[0mtot_amount\u001b[0m \u001b[0;34m=\u001b[0m \u001b[0;36m0.\u001b[0m\u001b[0;34m\u001b[0m\u001b[0;34m\u001b[0m\u001b[0m\n\u001b[1;32m      7\u001b[0m \u001b[0midx\u001b[0m \u001b[0;34m=\u001b[0m \u001b[0;36m0\u001b[0m\u001b[0;34m\u001b[0m\u001b[0;34m\u001b[0m\u001b[0m\n\u001b[0;32m----> 8\u001b[0;31m \u001b[0;32mfor\u001b[0m \u001b[0mgrp_interval\u001b[0m\u001b[0;34m,\u001b[0m \u001b[0mgrp\u001b[0m \u001b[0;32min\u001b[0m \u001b[0mgbydf\u001b[0m\u001b[0;34m:\u001b[0m\u001b[0;34m\u001b[0m\u001b[0;34m\u001b[0m\u001b[0m\n\u001b[0m\u001b[1;32m      9\u001b[0m     \u001b[0mrecips\u001b[0m \u001b[0;34m=\u001b[0m \u001b[0mgrp\u001b[0m\u001b[0;34m[\u001b[0m\u001b[0mgrp\u001b[0m\u001b[0;34m[\u001b[0m\u001b[0;34m'eitc'\u001b[0m\u001b[0;34m]\u001b[0m \u001b[0;34m>\u001b[0m \u001b[0;36m0\u001b[0m\u001b[0;34m]\u001b[0m\u001b[0;34m[\u001b[0m\u001b[0;34m's006'\u001b[0m\u001b[0;34m]\u001b[0m\u001b[0;34m.\u001b[0m\u001b[0msum\u001b[0m\u001b[0;34m(\u001b[0m\u001b[0;34m)\u001b[0m \u001b[0;34m*\u001b[0m \u001b[0;36m1e-6\u001b[0m\u001b[0;34m\u001b[0m\u001b[0;34m\u001b[0m\u001b[0m\n\u001b[1;32m     10\u001b[0m     \u001b[0mtot_recips\u001b[0m \u001b[0;34m+=\u001b[0m \u001b[0mrecips\u001b[0m\u001b[0;34m\u001b[0m\u001b[0;34m\u001b[0m\u001b[0m\n",
      "\u001b[0;31mNameError\u001b[0m: name 'gbydf' is not defined"
     ]
    }
   ],
   "source": [
    "# print AGI table with ALL row at bottom\n",
    "results = '{:23s}\\t{:8.3f}\\t{:8.3f}'\n",
    "colhead = '{:23s}\\t{:>8s}\\t{:>8s}'\n",
    "print(colhead.format('AGI Category', 'Num(#M)', 'Avg($K)'))\n",
    "tot_recips = 0.\n",
    "tot_amount = 0.\n",
    "idx = 0\n",
    "for grp_interval, grp in gbydf:\n",
    "    recips = grp[grp['eitc'] > 0]['s006'].sum() * 1e-6\n",
    "    tot_recips += recips\n",
    "    amount = (grp['eitc'] * grp['s006']).sum() * 1e-9\n",
    "    tot_amount += amount\n",
    "    if recips > 0:\n",
    "        avg = amount / recips\n",
    "    else:\n",
    "        avg = np.nan\n",
    "    glabel = '[{:.8g}, {:.8g})'.format(grp_interval.left, grp_interval.right)\n",
    "    print(results.format(glabel, recips, avg))\n",
    "    idx += 1\n",
    "avg = tot_amount / tot_recips\n",
    "print(results.format('ALL', tot_recips, avg))"
   ]
  }
 ],
 "metadata": {
  "date": 1592696663.6062272,
  "download_nb": true,
  "download_nb_path": null,
  "filename": "recipe03.rst",
  "filename_with_path": "recipe03",
  "kernelspec": {
   "display_name": "Python",
   "language": "python3",
   "name": "python3"
  },
  "language_info": {
   "codemirror_mode": {
    "name": "ipython",
    "version": 3
   },
   "file_extension": ".py",
   "mimetype": "text/x-python",
   "name": "python",
   "nbconvert_exporter": "python",
   "pygments_lexer": "ipython3",
   "version": "3.7.7"
  },
  "next_doc": {
   "link": "recipe04",
   "title": "Recipe 4: Estimating Differential Reform Response"
  },
  "prev_doc": {
   "link": "recipe02",
   "title": "Recipe 2: Estimating Behavioral Response to Reform"
  },
  "title": "Recipe 3: Creating a Custom Table"
 },
 "nbformat": 4,
 "nbformat_minor": 4
}
