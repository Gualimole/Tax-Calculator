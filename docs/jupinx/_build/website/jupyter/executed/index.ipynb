{
 "cells": [
  {
   "cell_type": "markdown",
   "metadata": {},
   "source": [
    "# Welcome to taxcalc’s documentation!\n",
    "\n",
    "# Contents:\n",
    "- [Basic Recipe: Static Analysis of a Simple Reform](recipe00.html)\n",
    "- [Recipe 1: Directly Comparing Two Reforms](recipe01.html)\n",
    "- [Recipe 2: Estimating Behavioral Response to Reform](recipe02.html)\n",
    "- [Recipe 3: Creating a Custom Table](recipe03.html)\n",
    "- [Recipe 4: Estimating Differential Reform Response](recipe04.html)\n",
    "- [Recipe 4: Estimating Differential Reform Response - pandas version](recipe04_pandas.html)\n",
    "- [Recipe 5: Redefining Expanded Income](recipe05.html)\n",
    "- [Recipe 6: Analyzing a Non-Parametric Reform](recipe06.html)"
   ]
  }
 ],
 "metadata": {
  "date": 1592696663.2326736,
  "download_nb": true,
  "download_nb_path": null,
  "filename": "index.rst",
  "filename_with_path": "index",
  "kernelspec": {
   "display_name": "Python",
   "language": "python3",
   "name": "python3"
  },
  "language_info": {
   "codemirror_mode": {
    "name": "ipython",
    "version": 3
   },
   "file_extension": ".py",
   "mimetype": "text/x-python",
   "name": "python",
   "nbconvert_exporter": "python",
   "pygments_lexer": "ipython3",
   "version": "3.7.7"
  },
  "next_doc": {
   "link": "recipe00",
   "title": "Basic Recipe: Static Analysis of a Simple Reform"
  },
  "title": "Welcome to taxcalc’s documentation!"
 },
 "nbformat": 4,
 "nbformat_minor": 4
}
