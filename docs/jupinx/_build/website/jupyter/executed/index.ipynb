{
 "cells": [
  {
   "cell_type": "markdown",
   "metadata": {},
   "source": [
    "# Welcome to taxcalc’s documentation!\n",
    "\n",
    "# Contents:\n",
    "- [Basic Recipe: Static Analysis of a Simple Reform](recipe00.html)"
   ]
  }
 ],
 "metadata": {
  "date": 1592585810.1300163,
  "download_nb": true,
  "download_nb_path": null,
  "filename": "index.rst",
  "filename_with_path": "index",
  "kernelspec": {
   "display_name": "Python",
   "language": "python3",
   "name": "python3"
  },
  "language_info": {
   "codemirror_mode": {
    "name": "ipython",
    "version": 3
   },
   "file_extension": ".py",
   "mimetype": "text/x-python",
   "name": "python",
   "nbconvert_exporter": "python",
   "pygments_lexer": "ipython3",
   "version": "3.7.7"
  },
  "next_doc": {
   "link": "recipe00",
   "title": "Basic Recipe: Static Analysis of a Simple Reform"
  },
  "title": "Welcome to taxcalc’s documentation!"
 },
 "nbformat": 4,
 "nbformat_minor": 4
}
