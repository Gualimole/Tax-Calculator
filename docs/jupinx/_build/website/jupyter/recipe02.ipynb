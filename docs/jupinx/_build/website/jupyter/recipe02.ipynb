{
 "cells": [
  {
   "cell_type": "markdown",
   "metadata": {},
   "source": [
    "# Recipe 2: Estimating Behavioral Response to Reform\n",
    "\n",
    "This is an advanced recipe that should be followed only after mastering the basic recipe.\n",
    "This recipe shows how to analyze the behavioral responses to a tax reform using the Behavioral-Responses behresp package."
   ]
  },
  {
   "cell_type": "code",
   "execution_count": null,
   "metadata": {
    "hide-output": false
   },
   "outputs": [],
   "source": [
    "import taxcalc as tc\n",
    "import behresp\n",
    "\n",
    "# use publicly-available CPS input file\n",
    "recs = tc.Records.cps_constructor()\n",
    "\n",
    "# specify baseline Calculator object representing current-law policy\n",
    "pol = tc.Policy()\n",
    "calc1 = tc.Calculator(policy=pol, records=recs)\n",
    "\n",
    "CYR = 2020\n",
    "\n",
    "# calculate aggregate current-law income tax liabilities for cyr\n",
    "calc1.advance_to_year(CYR)\n",
    "calc1.calc_all()\n",
    "itax_rev1 = calc1.weighted_total('iitax')\n",
    "\n",
    "# specify Calculator object for static analysis of reform policy\n",
    "pol.implement_reform(tc.Policy.read_json_reform('_static/reformA.json'))\n",
    "calc2 = tc.Calculator(policy=pol, records=recs)\n",
    "\n",
    "# calculate reform income tax liabilities for cyr under static assumptions\n",
    "calc2.advance_to_year(CYR)\n",
    "calc2.calc_all()\n",
    "itax_rev2sa = calc2.weighted_total('iitax')\n",
    "\n",
    "# specify assumed non-zero response-function substitution elasticity\n",
    "response_elasticities = {'sub': 0.25}\n",
    "\n",
    "# specify Calculator object for analysis of reform with behavioral responses\n",
    "calc2 = tc.Calculator(policy=pol, records=recs)\n",
    "calc2.advance_to_year(CYR)\n",
    "_, df2br = behresp.response(calc1, calc2, response_elasticities)\n",
    "\n",
    "# calculate reform income tax liabilities for CYR with behavioral response\n",
    "itax_rev2br = (df2br['iitax'] * df2br['s006']).sum()\n",
    "\n",
    "# print total income tax revenue estimates for CYR\n",
    "# (estimates in billons of dollars)\n",
    "print('{}_CURRENT_LAW_P__itax_rev($B)= {:.3f}'.format(CYR, itax_rev1 * 1e-9))\n",
    "print('{}_REFORM_STATIC__itax_rev($B)= {:.3f}'.format(CYR, itax_rev2sa * 1e-9))\n",
    "print('{}_REFORM_DYNAMIC_itax_rev($B)= {:.3f}'.format(CYR, itax_rev2br * 1e-9))"
   ]
  },
  {
   "cell_type": "markdown",
   "metadata": {},
   "source": [
    "Create multi-year diagnostic tables for\n",
    "1. baseline,\n",
    "2. reform excluding behavioral responses, and\n",
    "3. reform including behavioral responses"
   ]
  },
  {
   "cell_type": "code",
   "execution_count": null,
   "metadata": {
    "hide-output": false
   },
   "outputs": [],
   "source": [
    "NUM_YEARS = 3  # number of diagnostic table years beginning with CYR\n",
    "dtable1 = calc1.diagnostic_table(NUM_YEARS)\n",
    "dtable2 = calc2.diagnostic_table(NUM_YEARS)\n",
    "dvar_list3 = list()\n",
    "year_list3 = list()\n",
    "for year in range(CYR, CYR + NUM_YEARS):\n",
    "    calc1.advance_to_year(year)\n",
    "    calc2.advance_to_year(year)\n",
    "    _, df2br = behresp.response(calc1, calc2, response_elasticities)\n",
    "    dvar_list3.append(df2br)\n",
    "    year_list3.append(year)\n",
    "dtable3 = tc.create_diagnostic_table(dvar_list3, year_list3)"
   ]
  },
  {
   "cell_type": "markdown",
   "metadata": {},
   "source": [
    "Diagnostic table for baseline:"
   ]
  },
  {
   "cell_type": "code",
   "execution_count": null,
   "metadata": {
    "hide-output": false
   },
   "outputs": [],
   "source": [
    "dtable1"
   ]
  },
  {
   "cell_type": "markdown",
   "metadata": {},
   "source": [
    "Diagnostic table for reform, excluding behavioral responses:"
   ]
  },
  {
   "cell_type": "code",
   "execution_count": null,
   "metadata": {
    "hide-output": false
   },
   "outputs": [],
   "source": [
    "dtable2"
   ]
  },
  {
   "cell_type": "markdown",
   "metadata": {},
   "source": [
    "Diagnostic table for reform, including behavioral responses:"
   ]
  },
  {
   "cell_type": "code",
   "execution_count": null,
   "metadata": {
    "hide-output": false
   },
   "outputs": [],
   "source": [
    "dtable3"
   ]
  }
 ],
 "metadata": {
  "date": 1592700901.9168663,
  "filename": "recipe02.rst",
  "kernelspec": {
   "display_name": "Python",
   "language": "python3",
   "name": "python3"
  },
  "next_doc": {
   "link": "recipe03",
   "title": "Recipe 3: Creating a Custom Table"
  },
  "prev_doc": {
   "link": "recipe01",
   "title": "Recipe 1: Directly Comparing Two Reforms"
  },
  "title": "Recipe 2: Estimating Behavioral Response to Reform"
 },
 "nbformat": 4,
 "nbformat_minor": 4
}