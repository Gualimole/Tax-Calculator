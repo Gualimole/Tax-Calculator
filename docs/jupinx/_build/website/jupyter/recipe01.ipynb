{
 "cells": [
  {
   "cell_type": "markdown",
   "metadata": {},
   "source": [
    "# Recipe 1: Directly Comparing Two Reforms\n",
    "\n",
    "This is an advanced recipe that should be followed only after mastering the basic recipe.\n",
    "This recipe shows how to compare two reforms (instead of comparing a reform to current-law policy)\n",
    "and also shows how to use the reform files available on the Tax-Calculator website\n",
    "(instead of reform files on your computer’s disk)."
   ]
  },
  {
   "cell_type": "code",
   "execution_count": null,
   "metadata": {
    "hide-output": false
   },
   "outputs": [],
   "source": [
    "import pandas as pd\n",
    "import taxcalc as tc\n",
    "\n",
    "# read an \"old\" reform file from Tax-Calculator website\n",
    "# (\"old\" means the reform file is defined relative to pre-TCJA policy)\n",
    "REFORMS_URL = ('https://raw.githubusercontent.com/'\n",
    "               'PSLmodels/Tax-Calculator/master/taxcalc/reforms/')\n",
    "\n",
    "# specify reform dictionary for pre-TCJA policy\n",
    "reform1 = tc.Policy.read_json_reform(REFORMS_URL + '2017_law.json')\n",
    "\n",
    "# specify reform dictionary for TCJA as passed by Congress in late 2017\n",
    "reform2 = tc.Policy.read_json_reform(REFORMS_URL + 'TCJA.json')\n",
    "\n",
    "# specify Policy object for pre-TCJA policy\n",
    "bpolicy = tc.Policy()\n",
    "bpolicy.implement_reform(reform1, print_warnings=False, raise_errors=False)\n",
    "assert not bpolicy.parameter_errors\n",
    "\n",
    "# specify Policy object for TCJA reform relative to pre-TCJA policy\n",
    "rpolicy = tc.Policy()\n",
    "rpolicy.implement_reform(reform1, print_warnings=False, raise_errors=False)\n",
    "assert not rpolicy.parameter_errors\n",
    "rpolicy.implement_reform(reform2, print_warnings=False, raise_errors=False)\n",
    "assert not rpolicy.parameter_errors\n",
    "\n",
    "# specify Calculator objects using bpolicy and rpolicy\n",
    "recs = tc.Records.cps_constructor()\n",
    "calc1 = tc.Calculator(policy=bpolicy, records=recs)\n",
    "calc2 = tc.Calculator(policy=rpolicy, records=recs)\n",
    "\n",
    "CYR = 2018\n",
    "\n",
    "# calculate for specified CYR\n",
    "calc1.advance_to_year(CYR)\n",
    "calc1.calc_all()\n",
    "calc2.advance_to_year(CYR)\n",
    "calc2.calc_all()\n",
    "\n",
    "# compare aggregate individual income tax revenue in cyr\n",
    "iitax_rev1 = calc1.weighted_total('iitax')\n",
    "iitax_rev2 = calc2.weighted_total('iitax')\n",
    "\n",
    "# construct reform-vs-baseline difference table with results for income deciles\n",
    "diff_table = calc1.difference_table(calc2, 'weighted_deciles', 'iitax')\n",
    "assert isinstance(diff_table, pd.DataFrame)\n",
    "diff_extract = pd.DataFrame()\n",
    "dif_colnames = ['count', 'tax_cut', 'tax_inc',\n",
    "                'tot_change', 'mean', 'pc_aftertaxinc']\n",
    "ext_colnames = ['funits(#m)', 'taxfall(#m)', 'taxrise(#m)',\n",
    "                'agg_diff($b)', 'mean_diff($)', 'aftertax_income_diff(%)']\n",
    "for dname, ename in zip(dif_colnames, ext_colnames):\n",
    "    diff_extract[ename] = diff_table[dname]\n",
    "\n",
    "# print total revenue estimates for cyr\n",
    "# (estimates in billons of dollars)\n",
    "print('{}_REFORM1_iitax_rev($B)= {:.3f}'.format(CYR, iitax_rev1 * 1e-9))\n",
    "print('{}_REFORM2_iitax_rev($B)= {:.3f}'.format(CYR, iitax_rev2 * 1e-9))\n",
    "print('')"
   ]
  },
  {
   "cell_type": "markdown",
   "metadata": {},
   "source": [
    "Print reform2-vs-reform1 difference table"
   ]
  },
  {
   "cell_type": "code",
   "execution_count": null,
   "metadata": {
    "hide-output": false
   },
   "outputs": [],
   "source": [
    "title = 'Extract of {} income-tax difference table by expanded-income decile'\n",
    "print(title.format(CYR))\n",
    "print('(taxfall is count of funits with cut in income tax in reform 2 vs 1)')\n",
    "print('(taxrise is count of funits with rise in income tax in reform 2 vs 1)')\n",
    "print(diff_extract.to_string())"
   ]
  }
 ],
 "metadata": {
  "date": 1592700901.868585,
  "filename": "recipe01.rst",
  "kernelspec": {
   "display_name": "Python",
   "language": "python3",
   "name": "python3"
  },
  "next_doc": {
   "link": "recipe02",
   "title": "Recipe 2: Estimating Behavioral Response to Reform"
  },
  "prev_doc": {
   "link": "recipe00",
   "title": "Basic Recipe: Static Analysis of a Simple Reform"
  },
  "title": "Recipe 1: Directly Comparing Two Reforms"
 },
 "nbformat": 4,
 "nbformat_minor": 4
}