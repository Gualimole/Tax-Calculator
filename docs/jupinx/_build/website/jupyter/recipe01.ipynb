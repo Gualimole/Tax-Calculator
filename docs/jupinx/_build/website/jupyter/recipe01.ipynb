{
 "cells": [
  {
   "cell_type": "markdown",
   "metadata": {},
   "source": [
    "# Recipe 1: Directly Comparing Two Reforms\n",
    "\n",
    "This is an advanced recipe that should be followed only after mastering the basic recipe.\n",
    "This recipe shows how to compare two reforms (instead of comparing a reform to current-law policy)\n",
    "and also shows how to use the reform files available on the Tax-Calculator website\n",
    "(instead of reform files on your computer’s disk).\n",
    "\n",
    "Print reform2-vs-reform1 difference table"
   ]
  }
 ],
 "metadata": {
  "date": 1592696663.310311,
  "filename": "recipe01.rst",
  "kernelspec": {
   "display_name": "Python",
   "language": "python3",
   "name": "python3"
  },
  "next_doc": {
   "link": "recipe02",
   "title": "Recipe 2: Estimating Behavioral Response to Reform"
  },
  "prev_doc": {
   "link": "recipe00",
   "title": "Basic Recipe: Static Analysis of a Simple Reform"
  },
  "title": "Recipe 1: Directly Comparing Two Reforms"
 },
 "nbformat": 4,
 "nbformat_minor": 4
}