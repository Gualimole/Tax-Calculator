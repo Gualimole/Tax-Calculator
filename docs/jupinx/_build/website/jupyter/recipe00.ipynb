{
 "cells": [
  {
   "cell_type": "markdown",
   "metadata": {},
   "source": [
    "# Basic Recipe: Static Analysis of a Simple Reform\n",
    "\n",
    "This is the recipe you should follow first.\n",
    "Mastering this recipe is a prerequisite for all the other recipes in this cookbook.\n",
    "\n",
    "**Ingredients**\n",
    "\n",
    "[Policy reform]([https://pslmodels.github.io/Tax-Calculator/reformA.json](https://pslmodels.github.io/Tax-Calculator/reformA.json))\n",
    "\n",
    "## Imports"
   ]
  },
  {
   "cell_type": "code",
   "execution_count": null,
   "metadata": {
    "hide-output": false
   },
   "outputs": [],
   "source": [
    "import taxcalc as tc\n",
    "import pandas as pd\n",
    "from bokeh.io import show, output_notebook"
   ]
  },
  {
   "cell_type": "markdown",
   "metadata": {},
   "source": [
    "## Setup\n",
    "\n",
    "Use publicly-available CPS input file.\n",
    "\n",
    "NOTE: if you have access to the restricted-use IRS-SOI PUF-based input file\n",
    "and you have that file (named ‘puf.csv’) located in the directory\n",
    "where this script is located, then you can substitute the following\n",
    "statement for the prior statement:\n",
    "\n",
    "``\n",
    "recs = Records()\n",
    "``"
   ]
  },
  {
   "cell_type": "code",
   "execution_count": null,
   "metadata": {
    "hide-output": false
   },
   "outputs": [],
   "source": [
    "recs = tc.Records.cps_constructor()"
   ]
  },
  {
   "cell_type": "markdown",
   "metadata": {},
   "source": [
    "Specify Calculator object for static analysis of current-law policy."
   ]
  },
  {
   "cell_type": "code",
   "execution_count": null,
   "metadata": {
    "hide-output": false
   },
   "outputs": [],
   "source": [
    "pol = tc.Policy()\n",
    "calc1 = tc.Calculator(policy=pol, records=recs)"
   ]
  },
  {
   "cell_type": "markdown",
   "metadata": {},
   "source": [
    "NOTE: calc1 now contains a PRIVATE COPY of pol and a PRIVATE COPY of recs,\n",
    "so we can continue to use pol and recs in this script without any\n",
    "concern about side effects from Calculator method calls on calc1."
   ]
  },
  {
   "cell_type": "code",
   "execution_count": null,
   "metadata": {
    "hide-output": false
   },
   "outputs": [],
   "source": [
    "CYR = 2020"
   ]
  },
  {
   "cell_type": "markdown",
   "metadata": {},
   "source": [
    "Calculate aggregate current-law income tax liabilities for CYR."
   ]
  },
  {
   "cell_type": "code",
   "execution_count": null,
   "metadata": {
    "hide-output": false
   },
   "outputs": [],
   "source": [
    "calc1.advance_to_year(CYR)\n",
    "calc1.calc_all()\n",
    "itax_rev1 = calc1.weighted_total('iitax')"
   ]
  },
  {
   "cell_type": "markdown",
   "metadata": {},
   "source": [
    "Read JSON reform file and use (the default) static analysis assumptions."
   ]
  },
  {
   "cell_type": "code",
   "execution_count": null,
   "metadata": {
    "hide-output": false
   },
   "outputs": [],
   "source": [
    "reform_filename = ('https://raw.githubusercontent.com/PSLmodels/Tax-Calculator/' +\n",
    "                   'master/docs/cookbook/reformA.json')\n",
    "params = tc.Calculator.read_json_param_objects(reform_filename, None)"
   ]
  },
  {
   "cell_type": "markdown",
   "metadata": {},
   "source": [
    "Specify Calculator object for static analysis of reform policy."
   ]
  },
  {
   "cell_type": "code",
   "execution_count": null,
   "metadata": {
    "hide-output": false
   },
   "outputs": [],
   "source": [
    "pol.implement_reform(params['policy'])\n",
    "calc2 = tc.Calculator(policy=pol, records=recs)"
   ]
  },
  {
   "cell_type": "markdown",
   "metadata": {},
   "source": [
    "## Calculate\n",
    "\n",
    "Calculate reform income tax liabilities for CYR."
   ]
  },
  {
   "cell_type": "code",
   "execution_count": null,
   "metadata": {
    "hide-output": false
   },
   "outputs": [],
   "source": [
    "calc2.advance_to_year(CYR)\n",
    "calc2.calc_all()\n",
    "itax_rev2 = calc2.weighted_total('iitax')"
   ]
  },
  {
   "cell_type": "markdown",
   "metadata": {},
   "source": [
    "## Results\n",
    "\n",
    "Print total revenue estimates for 2018.\n",
    "\n",
    "*Estimates in billons of dollars rounded to nearest hundredth of a billion.*"
   ]
  },
  {
   "cell_type": "code",
   "execution_count": null,
   "metadata": {
    "hide-output": false
   },
   "outputs": [],
   "source": [
    "print('{}_CLP_itax_rev($B)= {:.3f}'.format(CYR, itax_rev1 * 1e-9))\n",
    "print('{}_REF_itax_rev($B)= {:.3f}'.format(CYR, itax_rev2 * 1e-9))"
   ]
  },
  {
   "cell_type": "markdown",
   "metadata": {},
   "source": [
    "Generate several other standard results tables."
   ]
  },
  {
   "cell_type": "code",
   "execution_count": null,
   "metadata": {
    "hide-output": false
   },
   "outputs": [],
   "source": [
    "# Aggregate diagnostic tables for CYR.\n",
    "clp_diagnostic_table = calc1.diagnostic_table(1)\n",
    "ref_diagnostic_table = calc2.diagnostic_table(1)\n",
    "\n",
    "# Income-tax distribution for CYR with CLP and REF results side-by-side.\n",
    "dist_table1, dist_table2 = calc1.distribution_tables(calc2, 'weighted_deciles')\n",
    "assert isinstance(dist_table1, pd.DataFrame)\n",
    "assert isinstance(dist_table2, pd.DataFrame)\n",
    "dist_extract = pd.DataFrame()\n",
    "dist_extract['funits(#m)'] = dist_table1['count']\n",
    "dist_extract['itax1($b)'] = dist_table1['iitax']\n",
    "dist_extract['itax2($b)'] = dist_table2['iitax']\n",
    "dist_extract['aftertax_inc1($b)'] = dist_table1['aftertax_income']\n",
    "dist_extract['aftertax_inc2($b)'] = dist_table2['aftertax_income']\n",
    "\n",
    "# Income-tax difference table by expanded-income decile for CYR.\n",
    "diff_table = calc1.difference_table(calc2, 'weighted_deciles', 'iitax')\n",
    "assert isinstance(diff_table, pd.DataFrame)\n",
    "diff_extract = pd.DataFrame()\n",
    "dif_colnames = ['count', 'tot_change', 'mean', 'pc_aftertaxinc']\n",
    "ext_colnames = ['funits(#m)', 'agg_diff($b)', 'mean_diff($)', 'aftertaxinc_diff(%)']\n",
    "for dname, ename in zip(dif_colnames, ext_colnames):\n",
    "    diff_extract[ename] = diff_table[dname]"
   ]
  },
  {
   "cell_type": "markdown",
   "metadata": {},
   "source": [
    "## Plotting\n",
    "\n",
    "Generate a decile graph and display it using Bokeh (will render in Jupyter, not in webpage)."
   ]
  },
  {
   "cell_type": "code",
   "execution_count": null,
   "metadata": {
    "hide-output": false
   },
   "outputs": [],
   "source": [
    "fig = calc1.pch_graph(calc2)\n",
    "output_notebook()\n",
    "show(fig)"
   ]
  },
  {
   "cell_type": "markdown",
   "metadata": {},
   "source": [
    "## Print tables\n",
    "\n",
    "CLP diagnostic table for CYR."
   ]
  },
  {
   "cell_type": "code",
   "execution_count": null,
   "metadata": {
    "hide-output": false
   },
   "outputs": [],
   "source": [
    "clp_diagnostic_table"
   ]
  },
  {
   "cell_type": "markdown",
   "metadata": {},
   "source": [
    "REF diagnostic table for CYR."
   ]
  },
  {
   "cell_type": "code",
   "execution_count": null,
   "metadata": {
    "hide-output": false
   },
   "outputs": [],
   "source": [
    "ref_diagnostic_table"
   ]
  },
  {
   "cell_type": "markdown",
   "metadata": {},
   "source": [
    "Extract of CYR distribution tables by baseline expanded-income decile."
   ]
  },
  {
   "cell_type": "code",
   "execution_count": null,
   "metadata": {
    "hide-output": false
   },
   "outputs": [],
   "source": [
    "dist_extract"
   ]
  },
  {
   "cell_type": "markdown",
   "metadata": {},
   "source": [
    "Extract of CYR income-tax difference table by expanded-income decile."
   ]
  },
  {
   "cell_type": "code",
   "execution_count": null,
   "metadata": {
    "hide-output": false
   },
   "outputs": [],
   "source": [
    "diff_extract"
   ]
  }
 ],
 "metadata": {
  "date": 1592585810.2305493,
  "filename": "recipe00.rst",
  "kernelspec": {
   "display_name": "Python",
   "language": "python3",
   "name": "python3"
  },
  "prev_doc": {
   "link": "index",
   "title": "Welcome to taxcalc’s documentation!"
  },
  "title": "Basic Recipe: Static Analysis of a Simple Reform"
 },
 "nbformat": 4,
 "nbformat_minor": 4
}