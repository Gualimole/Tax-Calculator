{
 "cells": [
  {
   "cell_type": "markdown",
   "metadata": {},
   "source": [
    "# Welcome to taxcalc’s documentation!\n",
    "\n",
    "# Contents:\n",
    "- [Basic Recipe: Static Analysis of a Simple Reform](recipe00.html)"
   ]
  }
 ],
 "metadata": {
  "date": 1592585810.1300163,
  "filename": "index.rst",
  "kernelspec": {
   "display_name": "Python",
   "language": "python3",
   "name": "python3"
  },
  "next_doc": {
   "link": "recipe00",
   "title": "Basic Recipe: Static Analysis of a Simple Reform"
  },
  "title": "Welcome to taxcalc’s documentation!"
 },
 "nbformat": 4,
 "nbformat_minor": 4
}