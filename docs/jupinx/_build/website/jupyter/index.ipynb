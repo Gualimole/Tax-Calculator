{
 "cells": [
  {
   "cell_type": "markdown",
   "metadata": {},
   "source": [
    "# Welcome to taxcalc’s documentation!\n",
    "\n",
    "# Contents:\n",
    "- [Basic Recipe: Static Analysis of a Simple Reform](recipe00.html)\n",
    "- [Recipe 1: Directly Comparing Two Reforms](recipe01.html)\n",
    "- [Recipe 2: Estimating Behavioral Response to Reform](recipe02.html)\n",
    "- [Recipe 3: Creating a Custom Table](recipe03.html)\n",
    "- [Recipe 4: Estimating Differential Reform Response](recipe04.html)\n",
    "- [Recipe 4: Estimating Differential Reform Response - pandas version](recipe04_pandas.html)\n",
    "- [Recipe 5: Redefining Expanded Income](recipe05.html)\n",
    "- [Recipe 6: Analyzing a Non-Parametric Reform](recipe06.html)"
   ]
  }
 ],
 "metadata": {
  "date": 1592701942.1272845,
  "filename": "index.rst",
  "kernelspec": {
   "display_name": "Python",
   "language": "python3",
   "name": "python3"
  },
  "next_doc": {
   "link": "recipe00",
   "title": "Basic Recipe: Static Analysis of a Simple Reform"
  },
  "title": "Welcome to taxcalc’s documentation!"
 },
 "nbformat": 4,
 "nbformat_minor": 4
}